{
 "cells": [
  {
   "cell_type": "markdown",
   "id": "e0673420",
   "metadata": {},
   "source": [
    "## Imports"
   ]
  },
  {
   "cell_type": "code",
   "execution_count": 80,
   "id": "09c72b45",
   "metadata": {
    "code_folding": [
     0
    ]
   },
   "outputs": [],
   "source": [
    "# imports\n",
    "import numpy as np\n",
    "import scipy as sp\n",
    "from time import time, sleep\n",
    "from fmm import fmm\n",
    "%matplotlib inline\n",
    "import matplotlib.pyplot as plt\n",
    "from scipy.sparse.linalg import gmres, LinearOperator, cg\n",
    "from copy import deepcopy as dc"
   ]
  },
  {
   "cell_type": "markdown",
   "id": "9cfdb868",
   "metadata": {},
   "source": [
    "## FMM"
   ]
  },
  {
   "cell_type": "code",
   "execution_count": 61,
   "id": "ae20df25",
   "metadata": {
    "code_folding": [
     0,
     1,
     22,
     37,
     64,
     77,
     91,
     106,
     137,
     156,
     164,
     174
    ]
   },
   "outputs": [],
   "source": [
    "class Fmm(object):\n",
    "    def __init__(self,pr,proxy_p=1., proxy_r=1., symmetric_fun = 0, lr_type='id'):\n",
    "        self.pr = pr\n",
    "        self.proxy_p = proxy_p\n",
    "        self.proxy_r = proxy_r\n",
    "        self.tree = pr.tree\n",
    "        self.n = pr.shape[0]\n",
    "        tree = self.tree\n",
    "        size = tree.level[-1]\n",
    "        self.size = size\n",
    "        self.basis = [None for i in range(size)]\n",
    "        self.local_basis = [None for i in range(size)]\n",
    "        self.T_r = [None for i in range(size)]\n",
    "        self.T_c = [None for i in range(size)]\n",
    "        self.index_lvl = [None for i in range(size)]\n",
    "        self.elim_list = set()\n",
    "        self.shape = self.pr.shape\n",
    "        self.lr_type = lr_type\n",
    "        self.far_mat = {}\n",
    "        self.mat_tmp = np.zeros((0, pr.shape[0]))\n",
    "        self.rks_r = [None for i in range(size)]\n",
    "        self.rks_c = [None for i in range(size)]\n",
    "    def dot(self, tmp_old):\n",
    "        tmp = tmp_old.copy()\n",
    "        pr = self.pr\n",
    "        tree = pr.tree\n",
    "        level_count = len(tree.level) - 2\n",
    "        tl = self.tail_lvl\n",
    "        ans = {}\n",
    "        ans[0] = self.dot_cl(tmp)\n",
    "        \n",
    "        for i in range(level_count-1, tl-1, -1):\n",
    "            tmp = self.dot_T(i, tmp, 'up')\n",
    "            ans[level_count-i] = self.dot_il(i, tmp)\n",
    "        for i in range(tl, level_count):\n",
    "            ans[level_count-1-i] += self.dot_T(i, ans[level_count-i], 'down')\n",
    "        return ans[0]\n",
    "    def dot_cl(self, tmp):\n",
    "        pr = self.pr\n",
    "        tree = pr.tree\n",
    "        level_count = len(tree.level) - 2\n",
    "        close = self.pr.close\n",
    "        ans = np.zeros(self.n)\n",
    "        for i in range(level_count-1, tree.higest_leaf_lvl-1, -1):\n",
    "            # print ('cl_lvl:', i)\n",
    "            job = [j for j in\n",
    "                   range(self.tree.level[i], self.tree.level[i+1])]\n",
    "            for ind in job:\n",
    "                for i_cl in close[ind]:\n",
    "                    if not tree.child[ind] and not tree.child[i_cl]:\n",
    "                        col_ind = self.index_lvl[ind]\n",
    "                        row_ind = self.index_lvl[i_cl]\n",
    "                        ans[col_ind] += self.pr.func(col_ind, row_ind).dot(tmp[row_ind])\n",
    "                    elif tree.child[ind] and not tree.child[i_cl]:\n",
    "                        for ch_ind in tree.child[ind]:\n",
    "                            col_ind = self.index_lvl[ch_ind]\n",
    "                            row_ind = self.index_lvl[i_cl]\n",
    "                            ans[col_ind] += self.pr.func(col_ind, row_ind).dot(tmp[row_ind])\n",
    "                    elif not tree.child[ind] and tree.child[i_cl]:\n",
    "                         for ch_cl in tree.child[i_cl]:\n",
    "                            col_ind = self.index_lvl[ind]\n",
    "                            row_ind = self.index_lvl[ch_cl]\n",
    "                            ans[col_ind] += self.pr.func(col_ind, row_ind).dot(tmp[row_ind])\n",
    "        return ans\n",
    "    def dot_il(self, i, tmp):\n",
    "        il = self.pr.far\n",
    "        ans = np.array([]) #np.zeros((1,0))\n",
    "        job = [j for j in\n",
    "               range(self.tree.level[i], self.tree.level[i+1])]\n",
    "        for ind in job:\n",
    "            ctr = 0\n",
    "            ans_i = np.zeros(self.rks_r[ind])\n",
    "            for i_il in job:\n",
    "                ans_i += self.far_mat[ind, i_il]@tmp[ctr:ctr+self.rks_c[i_il]]\n",
    "                ctr = ctr + self.rks_c[i_il]\n",
    "            ans = np.concatenate((ans, ans_i))\n",
    "        return ans\n",
    "    def dot_T(self, i, tmp, prod_type):\n",
    "        job = [j for j in\n",
    "               range(self.tree.level[i], self.tree.level[i+1])]\n",
    "        if prod_type == 'up':\n",
    "            ans = np.array([])\n",
    "            for ind in job:\n",
    "                ans = np.concatenate((ans, self.T_c[ind].dot(tmp[self.index_lvl[ind]])))\n",
    "        else:\n",
    "            ctr = 0\n",
    "            ans = np.zeros(self.n)\n",
    "            for ind in job:   \n",
    "                ans[self.index_lvl[ind]] = self.T_r[ind].dot(tmp[ctr:ctr+self.rks_r[ind]])\n",
    "                ctr = ctr+self.rks_r[ind]\n",
    "        return ans\n",
    "def buildmatrix(ind, fmm):\n",
    "    pr = fmm.pr\n",
    "    tree = fmm.tree\n",
    "    i = 2\n",
    "    job = [j for j in\n",
    "           range(tree.level[i], tree.level[i+1])]\n",
    "    mat = np.zeros((fmm.index_lvl[ind].size,0))\n",
    "    for i_col in job:\n",
    "        if i_col in pr.far[ind]:\n",
    "            mat_tmp = pr._func(tree.data, fmm.index_lvl[ind], tree.data, fmm.index_lvl[i_col])\n",
    "            mat = np.hstack((mat,mat_tmp))\n",
    "        else:\n",
    "            mat_tmp = np.zeros((fmm.index_lvl[ind].shape[0], fmm.index_lvl[i_col].shape[0]))\n",
    "            mat = np.hstack((mat,mat_tmp))\n",
    "    return mat\n",
    "def build_fmm(pr, lr_type='id'):\n",
    "    tree = pr.tree\n",
    "    level_count = len(tree.level) - 2\n",
    "    tau = pr.eps\n",
    "    fmm = Fmm(pr, symmetric_fun = 1, lr_type=lr_type)\n",
    "    ind_l = []\n",
    "    fmm.tail_lvl = pr.tail_lvl\n",
    "\n",
    "    i=2\n",
    "    job = [j for j in\n",
    "           range(tree.level[i], tree.level[i+1])]\n",
    "    for ind in job:\n",
    "        fmm.index_lvl[ind] = fmm.tree.index[ind]\n",
    "    for ind in job:\n",
    "        matrix = buildmatrix(ind, fmm)\n",
    "        u, s, _ = np.linalg.svd(matrix, full_matrices=False)\n",
    "        k = np.argmin(abs(s - tau))\n",
    "        fmm.rks_r[ind] = k\n",
    "        fmm.rks_c[ind] = k\n",
    "        fmm.T_r[ind] = u[:,:k]\n",
    "        fmm.T_c[ind] = u[:,:k].T\n",
    "        \n",
    "    for ind in job:   \n",
    "        \n",
    "        ptr_r = 0\n",
    "        for ind_f in  pr.far[ind]:\n",
    "            bl = pr._func(tree.data, fmm.index_lvl[ind], tree.data, fmm.index_lvl[ind_f])\n",
    "            fmm.far_mat[ind, ind_f] = (fmm.T_r[ind].T @ bl@ fmm.T_c[ind_f].T)[:fmm.rks_r[ind], :fmm.rks_c[ind_f]]\n",
    "        for ind_f in  pr.close[ind]:\n",
    "            fmm.far_mat[ind, ind_f] = np.zeros((fmm.rks_r[ind], fmm.rks_c[ind_f]))\n",
    "    return fmm\n",
    "def exp_fun(data1, list1, data2, list2):\n",
    "    sigma = 0.1\n",
    "    n = list1.size\n",
    "    m = list2.size\n",
    "    vertex1 = data1.vertex\n",
    "    vertex2 = data2.vertex\n",
    "    N = data1.vertex.shape[1]\n",
    "    ans = np.ndarray((n, m), dtype=np.float64)\n",
    "    for i in range(n):\n",
    "        for j in range(m):\n",
    "            d2 = 0\n",
    "            for i_dim in range(data1.ndim):\n",
    "                d2 += (vertex1[i_dim,list1[i]]-vertex2[i_dim,list2[j]])**2\n",
    "            d2 = np.sqrt(d2)\n",
    "            if (vertex1[:,list1[i]] == vertex2[:,list2[j]]).all():\n",
    "                ans[i, j] = np.exp(-d2/sigma) \n",
    "            else:\n",
    "                ans[i, j] = np.exp(-d2/sigma)\n",
    "    return ans\n",
    "def dot_ut(self, vec):\n",
    "    i = 2\n",
    "    job = [j for j in\n",
    "               range(self.tree.level[i], self.tree.level[i+1])]\n",
    "    ans = np.array([])\n",
    "    for ind in job:\n",
    "        ans = np.concatenate((ans, self.T_r[ind].T.dot(vec[self.index_lvl[ind]])))\n",
    "    return ans\n",
    "def dot_vt(self, vec):\n",
    "    ctr = 0\n",
    "    ans = np.zeros(self.n)\n",
    "    i = 2\n",
    "    job = [j for j in\n",
    "               range(self.tree.level[i], self.tree.level[i+1])]\n",
    "    for ind in job:   \n",
    "        ans[self.index_lvl[ind]] = self.T_c[ind].T.dot(vec[ctr:ctr+self.rks_r[ind]])\n",
    "        ctr = ctr+self.rks_r[ind]\n",
    "    return ans\n",
    "def make_a_tilda(self):\n",
    "    i = 2\n",
    "    job = [j for j in range(self.tree.level[i], self.tree.level[i+1])]\n",
    "    n = 0\n",
    "    m = 0\n",
    "    pr = self.pr\n",
    "    index = pr.tree.index\n",
    "    for i in job:\n",
    "        n += self.rks_r[i]\n",
    "    for i in job:\n",
    "        m += self.rks_c[i]\n",
    "#     print(m,n)        \n",
    "    a_tild = np.zeros((n,m))\n",
    "    ptr_r = 0 \n",
    "    for i in job:\n",
    "        ptr_c = 0\n",
    "        for j in job:\n",
    "            if j in pr.close[i]:\n",
    "                row_ind = np.arange(ptr_r, ptr_r + self.rks_r[i])\n",
    "                col_ind = np.arange(ptr_c, ptr_c + self.rks_c[j])\n",
    "                big_cl = self.pr.func(index[i], index[j])\n",
    "                a_tild[np.ix_(row_ind, col_ind)] = self.T_r[i].T @ big_cl @ self.T_c[j].T\n",
    "            elif j in pr.far[i]:\n",
    "                row_ind = np.arange(ptr_r, ptr_r + self.rks_r[i])\n",
    "                col_ind = np.arange(ptr_c, ptr_c + self.rks_c[j])\n",
    "                a_tild[np.ix_(row_ind, col_ind)] = self.far_mat[i, j]\n",
    "            else:\n",
    "                print('Bug!')\n",
    "            ptr_c = ptr_c + self.rks_c[j]\n",
    "        ptr_r = ptr_r + self.rks_r[i]\n",
    "    return a_tild           "
   ]
  },
  {
   "cell_type": "code",
   "execution_count": 30,
   "id": "c18fc0e8",
   "metadata": {
    "code_folding": [
     0
    ]
   },
   "outputs": [
    {
     "name": "stdout",
     "output_type": "stream",
     "text": [
      "problem-build time: 0.01851201057434082\n",
      "N = (1024, 1024)\n"
     ]
    }
   ],
   "source": [
    "#set_up_problem\n",
    "np.random.seed(0)\n",
    "\n",
    "func = exp_fun\n",
    "close_r = 1. \n",
    "num_child_tree = 'hyper' \n",
    "eps = 5.1e-6\n",
    "ndim = 2\n",
    "n = 32\n",
    "bs = 64\n",
    "\n",
    "t0 = time()\n",
    "pr = fmm.build_problem(geom_type='cube',\n",
    "                      n=n,\n",
    "                      ndim=ndim,\n",
    "                      block_size=bs,\n",
    "                      func=func,\n",
    "                      point_based_tree=0,\n",
    "                      close_r=close_r,\n",
    "                      num_child_tree=num_child_tree,\n",
    "                      random_points=0,\n",
    "                      eps=eps)\n",
    "print(f'problem-build time: {time() - t0}\\nN = {pr.shape}')"
   ]
  },
  {
   "cell_type": "code",
   "execution_count": 31,
   "id": "c284f1d5",
   "metadata": {
    "code_folding": [
     0
    ]
   },
   "outputs": [],
   "source": [
    "#build H2 matrix\n",
    "fmm_mat = build_fmm(pr, lr_type='svd')"
   ]
  },
  {
   "cell_type": "code",
   "execution_count": 32,
   "id": "0765b38f",
   "metadata": {
    "code_folding": [
     0
    ]
   },
   "outputs": [
    {
     "name": "stdout",
     "output_type": "stream",
     "text": [
      "Approximation accurasy: 5.238023848640841e-08\n"
     ]
    }
   ],
   "source": [
    "# Accurasy test\n",
    "test_v = np.random.rand(fmm_mat.n)\n",
    "mat = fmm_mat.pr.func(np.arange(pr.shape[0]),np.arange(pr.shape[0]))\n",
    "test_ans = mat.dot(test_v)\n",
    "my_ans = fmm_mat.dot(test_v)\n",
    "err = test_ans - my_ans\n",
    "print(f'Approximation accurasy: {np.linalg.norm(err)/np.linalg.norm(test_ans)}')"
   ]
  },
  {
   "cell_type": "markdown",
   "id": "1b08dc80",
   "metadata": {},
   "source": [
    "## CG"
   ]
  },
  {
   "cell_type": "markdown",
   "id": "843e1157",
   "metadata": {},
   "source": [
    "### code "
   ]
  },
  {
   "cell_type": "code",
   "execution_count": 48,
   "id": "3b741654",
   "metadata": {
    "code_folding": [
     1
    ]
   },
   "outputs": [],
   "source": [
    "# my cg\n",
    "def cg_my(A, b, x0=None, n_iter=100, verbose=0, tol = 1e-10, x_true = None, plot_res=0, p=None, r1=None, x_chgd = 0):\n",
    "    \n",
    "    n = A.shape[0]\n",
    "    m = A.shape[1]\n",
    "    max_it = -1\n",
    "    if n != m:\n",
    "        raise NameError('Matrix should be square')\n",
    "    if x0 is None:\n",
    "        x0 = np.zeros(n, dtype=np.double)\n",
    "    res = np.zeros(n_iter + 1)\n",
    "    anorm = np.zeros(n_iter + 1)\n",
    "    if verbose:\n",
    "        print ('Solving with Conjugate Gradien method')\n",
    "    if r1 is None:\n",
    "        r = b - A.dot(x0)\n",
    "        p = r.copy()\n",
    "    elif x_chgd:\n",
    "        r = b - A.dot(x0)\n",
    "        beta = np.dot(r, r) / np.dot(r1, r1)\n",
    "        p = beta * p + r\n",
    "    else:\n",
    "        r = r1.copy()\n",
    "    r_k_norm = np.dot(r, r)\n",
    "    res[0] = np.linalg.norm(b - A.dot(x0))/np.linalg.norm(b)\n",
    "    ek = x_true - x0\n",
    "    anorm[0] = np.sqrt(ek.dot(A.dot(ek)))\n",
    "    for i in range(n_iter):\n",
    "        Ap = A.dot(p)\n",
    "        alpha = r_k_norm / np.dot(p, Ap)\n",
    "        x0 += alpha * p\n",
    "        r -= alpha * Ap\n",
    "        r1 = r.copy()\n",
    "        r_kplus1_norm = np.dot(r, r)\n",
    "        beta = r_kplus1_norm / r_k_norm\n",
    "        r_k_norm = r_kplus1_norm\n",
    "        ek = x_true - x0\n",
    "        res[i+1] = np.linalg.norm(b - A.dot(x0))/np.linalg.norm(b)\n",
    "        anorm[i+1] = np.sqrt(ek.dot(A.dot(ek)))\n",
    "        p = beta * p + r\n",
    "        if verbose:\n",
    "            print(f\"iter:{i}, xk: {np.linalg.norm(x0)}, a-norm: {anorm[i]:.8f}, residual: {res[i+1]}, res2{np.linalg.norm(r)/np.linalg.norm(b)}\", end='\\n')\n",
    "        if res[i] < tol:\n",
    "            max_it = i \n",
    "            break         \n",
    "    if max_it == -1:\n",
    "        max_it = n_iter\n",
    "    if plot_res:\n",
    "        return (x0, p, r1), (res[:max_it+2], anorm[:max_it+2])\n",
    "    else:\n",
    "        return x0, 0"
   ]
  },
  {
   "cell_type": "code",
   "execution_count": 33,
   "id": "376acaea",
   "metadata": {
    "code_folding": [
     0,
     2,
     12
    ]
   },
   "outputs": [],
   "source": [
    "# scipy cg\n",
    "class Results(object):\n",
    "    def __init__(self, A, b, x_tr, x_ap, disp=0):\n",
    "        self.A = A\n",
    "        self.b = b\n",
    "        self.x_tr = x_tr\n",
    "        self.x_ap = x_ap\n",
    "        self.disp = disp\n",
    "        self.res = []\n",
    "        self.anorm_tr = []\n",
    "        self.anorm_ap = []\n",
    "        self.niter = 0\n",
    "    def __call__(self,  xk):\n",
    "        rk = np.linalg.norm(self.b - self.A.dot(xk))/np.linalg.norm(self.b)\n",
    "        ek_tr = self.x_tr - xk\n",
    "        ek_ap = self.x_ap - xk\n",
    "        an_tr = np.sqrt(ek_tr.dot(self.A.dot(ek_tr)))\n",
    "        an_ap = np.sqrt(ek_ap.dot(self.A.dot(ek_ap))) \n",
    "        \n",
    "        self.res.append(rk)\n",
    "        self.anorm_tr.append(an_tr)\n",
    "        self.anorm_ap.append(an_ap)\n",
    "        if self.disp:\n",
    "            print(f\"iter:{self.niter}, res:{rk}, an_tr:{an_tr}, an_ap:{an_ap}\")\n",
    "        self.niter += 1"
   ]
  },
  {
   "cell_type": "code",
   "execution_count": 34,
   "id": "202ec9ae",
   "metadata": {
    "code_folding": [
     0
    ]
   },
   "outputs": [],
   "source": [
    "# make b\n",
    "np.random.seed(0)\n",
    "b = np.random.rand(fmm_mat.n)"
   ]
  },
  {
   "cell_type": "code",
   "execution_count": 35,
   "id": "d0607ec0",
   "metadata": {
    "code_folding": [
     0
    ]
   },
   "outputs": [
    {
     "name": "stdout",
     "output_type": "stream",
     "text": [
      "close, row: 20, col: 20\n",
      "||A_full_compr-mat||/||A_full_compr||=3.457190049426565e-07\n"
     ]
    }
   ],
   "source": [
    "# make full n by n matrix from approximated H2 matrix\n",
    "pr = fmm_mat.pr\n",
    "tree = pr.tree\n",
    "level_count = len(tree.level) - 2\n",
    "close = fmm_mat.pr.close\n",
    "i=2\n",
    "A_full_compr = np.zeros_like(mat)\n",
    "job = [j for j in\n",
    "       range(fmm_mat.tree.level[i], fmm_mat.tree.level[i+1])]\n",
    "for row in job:\n",
    "    index_row = fmm_mat.index_lvl[row]\n",
    "    for col in job:\n",
    "        index_col = fmm_mat.index_lvl[col]\n",
    "        if col in close[row]:\n",
    "            cl_bl = fmm_mat.pr.func(index_row, index_col)\n",
    "            print(f'close, row: {row}, col: {col}', end='\\r')\n",
    "            A_full_compr[np.ix_(index_row, index_col)] = cl_bl\n",
    "        else:\n",
    "            print(f'far  , row: {row}, col: {col}', end='\\r')\n",
    "            fr_bl = fmm_mat.T_r[row]@fmm_mat.far_mat[row,col]@fmm_mat.T_c[col]\n",
    "            A_full_compr[np.ix_(index_row, index_col)] = fr_bl\n",
    "print(f\"\\n||A_full_compr-mat||/||A_full_compr||={np.linalg.norm(A_full_compr-mat)/ np.linalg.norm(A_full_compr)}\")\n"
   ]
  },
  {
   "cell_type": "code",
   "execution_count": 36,
   "id": "4d52da13",
   "metadata": {
    "code_folding": []
   },
   "outputs": [
    {
     "name": "stdout",
     "output_type": "stream",
     "text": [
      "\n",
      "||x_compr-x||/||x_compr||=2.5241769552867163e-06\n"
     ]
    }
   ],
   "source": [
    "# make true x\n",
    "x_true_compr = np.linalg.solve(A_full_compr, b)\n",
    "x_true_full = np.linalg.solve(mat, b)\n",
    "print(f\"\\n||x_compr-x||/||x_compr||={np.linalg.norm(x_true_compr-x_true_full)/ np.linalg.norm(x_true_compr)}\")"
   ]
  },
  {
   "cell_type": "code",
   "execution_count": 59,
   "id": "2e767a60",
   "metadata": {
    "code_folding": []
   },
   "outputs": [
    {
     "name": "stdout",
     "output_type": "stream",
     "text": [
      "0.0\n"
     ]
    }
   ],
   "source": [
    "# compare my_cg with scipy cg\n",
    "\n",
    "n_iter=200\n",
    "tol=1e-10\n",
    "\n",
    "# run scipy cg\n",
    "callback = Results(mat, b, x_true_full, x_true_compr, disp = 0)\n",
    "tmp = cg(mat, b, callback=callback, tol=tol, maxiter=n_iter)\n",
    "\n",
    "# run my cg\n",
    "tmp, (res, anorm) = cg_my(mat, b, x0=None,  x_true = x_true_full, n_iter=n_iter, tol=tol, plot_res=1)\n",
    "\n",
    "print(np.linalg.norm(res[1:-1] - callback.res))"
   ]
  },
  {
   "cell_type": "markdown",
   "id": "5c9a428b",
   "metadata": {},
   "source": [
    "## FMM-MG"
   ]
  },
  {
   "cell_type": "code",
   "execution_count": 74,
   "id": "2ea22be4",
   "metadata": {
    "code_folding": [
     0
    ]
   },
   "outputs": [],
   "source": [
    "def fmm_mg(A, b, xk=None, fmm_mat = None, mg_type = 'no_mg', x_true = None, n_iter = 10, tol = 1e-10, n_v_iter = 0): \n",
    "    if xk is None:\n",
    "        xk = np.zeros_like(b)\n",
    "    res = np.array([])\n",
    "    anorm = np.array([])\n",
    "    p = None\n",
    "    r1 = None\n",
    "    for i in range(n_v_iter):\n",
    "#         print(f\"v iteration: {i+1}, {mg_type}\")\n",
    "        (xk, p, r1), res_up = cg_my(A, b, x0=xk,x_true = x_true, verbose=0, n_iter=n_iter, tol=tol, \n",
    "                                plot_res = 1, p=p, r1=r1, x_chgd = 0)\n",
    "        res = np.concatenate((res, res_up[0]))\n",
    "        anorm  = np.concatenate((anorm, res_up[1]))\n",
    "        if mg_type == 'no_mg':\n",
    "            res_tmp = np.array([np.linalg.norm(b - A.dot(xk))/np.linalg.norm(b)])\n",
    "            res = np.concatenate((res, res_tmp ))\n",
    "            ek = xk - x_true\n",
    "            anorm  = np.concatenate((anorm, np.array([np.sqrt(np.dot(ek, A.dot(ek)))])))\n",
    "            (xk, p, r1), res_down = cg_my(A, b, x0=xk, x_true = x_true, verbose=0, n_iter=n_iter, tol=tol, \n",
    "                                        plot_res = 1, p=p, r1=r1, x_chgd = 0)\n",
    "            res = np.concatenate((res, res_down[0]))\n",
    "            anorm  = np.concatenate((anorm, res_down[1]))\n",
    "        elif mg_type == 'u':\n",
    "            xk_old = xk.copy()\n",
    "            r = b - A.dot(xk)\n",
    "            r_tild = dot_ut(fmm_mat, r)\n",
    "            e_tild = np.linalg.solve(a_tild, r_tild)\n",
    "            \n",
    "            plt.show()\n",
    "            e = dot_vt(fmm_mat, e_tild)\n",
    "            ek = xk - x_true\n",
    "    \n",
    "            xk = xk_old + e\n",
    "            ek = xk - x_true\n",
    "            plt.show()\n",
    "            res = np.concatenate((res, np.array([np.linalg.norm(b - A.dot(xk))/np.linalg.norm(b)])))\n",
    "            anorm  = np.concatenate((anorm, np.array([np.sqrt(np.dot(ek, A.dot(ek)))])))\n",
    "            \n",
    "            (xk, p, r1), res_down = cg_my(A, b, x0=xk, x_true=x_true, verbose=0, n_iter=n_iter, tol=tol, \n",
    "                                        plot_res = 1, p=p, r1=r1, x_chgd = 1)\n",
    "            ek = xk - x_true\n",
    "            res = np.concatenate((res, res_down[0]))\n",
    "            anorm  = np.concatenate((anorm, res_down[1]))\n",
    "        else:\n",
    "            print('Wrong mg_type')\n",
    "            return 0, 0, 0\n",
    "        if res[-1] < tol:\n",
    "            break\n",
    "    return xk, res, anorm"
   ]
  },
  {
   "cell_type": "code",
   "execution_count": 75,
   "id": "01cd4514",
   "metadata": {},
   "outputs": [],
   "source": [
    "# data = {}\n",
    "# a_tild = make_a_tilda(fmm_mat)"
   ]
  },
  {
   "cell_type": "code",
   "execution_count": 78,
   "id": "881d357a",
   "metadata": {},
   "outputs": [],
   "source": [
    "n_v_iter = 20\n",
    "n_iter = 1\n",
    "\n",
    "tol = 1e-10\n",
    "method = \"cg\"\n",
    "\n",
    "# A = mat\n",
    "# x_true = x_true_full\n",
    "\n",
    "A = A_full_compr\n",
    "x_true = x_true_compr\n",
    "\n",
    "\n",
    "\n",
    "\n",
    "data[n_iter, method, eps, 'no_mg'] = fmm_mg(A, b, mg_type = 'no_mg', x_true =  x_true,   fmm_mat=fmm_mat, n_iter = n_iter, \n",
    "                               tol = tol, n_v_iter = n_v_iter)\n",
    "data[n_iter, method, eps, 'u'] = fmm_mg(A, b, mg_type = 'u',  fmm_mat = fmm_mat, x_true =  x_true, n_iter = n_iter, \n",
    "                               tol = tol, n_v_iter = n_v_iter)"
   ]
  },
  {
   "cell_type": "code",
   "execution_count": 79,
   "id": "d99589f9",
   "metadata": {},
   "outputs": [
    {
     "data": {
      "text/plain": [
       "<matplotlib.legend.Legend at 0x7fcdd00a6130>"
      ]
     },
     "execution_count": 79,
     "metadata": {},
     "output_type": "execute_result"
    },
    {
     "data": {
      "image/png": "[encoded data removed]",
      "text/plain": [
       "<Figure size 1500x750 with 2 Axes>"
      ]
     },
     "metadata": {},
     "output_type": "display_data"
    }
   ],
   "source": [
    "fig, axs = plt.subplots(1, 2, sharey=False, figsize=(15, 7.5))\n",
    "# marker='.'\n",
    "marker = None\n",
    "for niter_i in [n_iter]:\n",
    "    for eps_i in [5.1e-6]:\n",
    "        for mg_type_i in ['no_mg', 'u']:\n",
    "            if mg_type_i == 'no_mg':\n",
    "                label_text = 'no v-cycle'\n",
    "            elif mg_type_i == 'u':\n",
    "                label_text = 'one-lvl v-cycle'\n",
    "            else:\n",
    "                label_text = mg_type_i\n",
    "            axs[0].plot(data[niter_i, method, eps_i, mg_type_i][2], label=f'{niter_i} iter per cg run, {method} + {label_text}, eps: {eps_i}',  marker=marker)\n",
    "axs[0].set_yscale('log')\n",
    "axs[0].set_title(f'A-norm comparison')\n",
    "axs[0].set_xticks(np.arange(n_iter+1, data[n_iter, method, eps_i, mg_type_i][2].shape[0] + n_iter+1, step=(n_iter+1)*2+1))\n",
    "axs[0].grid(axis='x', color='0.95')\n",
    "axs[0].legend()\n",
    "\n",
    "for niter_i in [n_iter]:\n",
    "    for eps_i in [5.1e-6]:\n",
    "        for mg_type_i in ['no_mg', 'u']:\n",
    "            if mg_type_i == 'no_mg':\n",
    "                label_text = 'no v-cycle'\n",
    "            elif mg_type_i == 'u':\n",
    "                label_text = 'one-lvl v-cycle'\n",
    "            else:\n",
    "                label_text = mg_type_i\n",
    "            axs[1].plot(data[niter_i, method, eps_i, mg_type_i][1], label=f'{niter_i} iter per cg run, {method} + {label_text}, eps: {eps_i}',  marker=marker)\n",
    "\n",
    "axs[1].set_title(f'Residual comparison')\n",
    "axs[1].set_yscale('log')\n",
    "axs[1].set_xticks(np.arange(n_iter+1, data[n_iter, method, eps_i, mg_type_i][2].shape[0] + n_iter+1, step=(n_iter+1)*2+1))\n",
    "axs[1].grid(axis='x', color='0.95')\n",
    "axs[1].legend()"
   ]
  },
  {
   "cell_type": "code",
   "execution_count": null,
   "id": "f2a1fde7",
   "metadata": {},
   "outputs": [],
   "source": []
  }
 ],
 "metadata": {
  "kernelspec": {
   "display_name": "Python 3 (ipykernel)",
   "language": "python",
   "name": "python3"
  },
  "language_info": {
   "codemirror_mode": {
    "name": "ipython",
    "version": 3
   },
   "file_extension": ".py",
   "mimetype": "text/x-python",
   "name": "python",
   "nbconvert_exporter": "python",
   "pygments_lexer": "ipython3",
   "version": "3.9.15"
  }
 },
 "nbformat": 4,
 "nbformat_minor": 5
}
